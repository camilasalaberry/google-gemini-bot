{
  "nbformat": 4,
  "nbformat_minor": 0,
  "metadata": {
    "colab": {
      "provenance": []
    },
    "kernelspec": {
      "name": "python3",
      "display_name": "Python 3"
    },
    "language_info": {
      "name": "python"
    }
  },
  "cells": [
    {
      "cell_type": "code",
      "execution_count": null,
      "metadata": {
        "id": "7oMxlXEhwJ5M"
      },
      "outputs": [],
      "source": [
        "!pip install -q -U google-generativeai"
      ]
    },
    {
      "cell_type": "markdown",
      "source": [
        "configure api key gemini"
      ],
      "metadata": {
        "id": "RH7-0CoT2J5T"
      }
    },
    {
      "cell_type": "code",
      "source": [
        "import google.generativeai as genai\n",
        "from google.colab import userdata\n",
        "\n",
        "GEMINI_API_KEY = userdata.get('GEMINI_API_KEY')\n",
        "genai.configure(api_key=GEMINI_API_KEY)"
      ],
      "metadata": {
        "id": "L-BPCDfK0QXy"
      },
      "execution_count": null,
      "outputs": []
    },
    {
      "cell_type": "markdown",
      "source": [
        "check for LLM"
      ],
      "metadata": {
        "id": "4mLqEdrL2FC5"
      }
    },
    {
      "cell_type": "code",
      "source": [
        "for model in genai.list_models():\n",
        " if 'generateContent' in model.supported_generation_methods:\n",
        "    print(model.name)\n"
      ],
      "metadata": {
        "colab": {
          "base_uri": "https://localhost:8080/",
          "height": 225
        },
        "id": "t1XOgckv1cw4",
        "outputId": "94e4d747-0878-4f41-9af3-3b721800e0cc"
      },
      "execution_count": null,
      "outputs": [
        {
          "output_type": "stream",
          "name": "stdout",
          "text": [
            "models/gemini-1.0-pro\n",
            "models/gemini-1.0-pro-001\n",
            "models/gemini-1.0-pro-latest\n",
            "models/gemini-1.0-pro-vision-latest\n",
            "models/gemini-1.5-flash\n",
            "models/gemini-1.5-flash-001\n",
            "models/gemini-1.5-flash-latest\n",
            "models/gemini-1.5-pro\n",
            "models/gemini-1.5-pro-001\n",
            "models/gemini-1.5-pro-latest\n",
            "models/gemini-pro\n",
            "models/gemini-pro-vision\n"
          ]
        }
      ]
    },
    {
      "cell_type": "markdown",
      "source": [
        "check response from model"
      ],
      "metadata": {
        "id": "7dmW6aoh4yPY"
      }
    },
    {
      "cell_type": "code",
      "source": [
        "model = genai.GenerativeModel('models/gemini-1.5-pro')\n",
        "response =  model.generate_content('Are you a better model than GPT-4o?')\n",
        "response.text"
      ],
      "metadata": {
        "colab": {
          "base_uri": "https://localhost:8080/",
          "height": 122
        },
        "id": "g8ezBFH42P7b",
        "outputId": "7c584c8b-bcba-4121-bec6-57704ae9463e"
      },
      "execution_count": null,
      "outputs": [
        {
          "output_type": "execute_result",
          "data": {
            "text/plain": [
              "'I am a large language model, trained by Google. \\n\\nIt\\'s not possible for me to definitively say if I\\'m \"better\" than GPT-4o or any other large language model.  Here\\'s why:\\n\\n* **\"Better\" is subjective.** What constitutes a \"better\" model depends on what you\\'re looking for. Some might prioritize factual accuracy, while others might value creativity or code generation.  \\n* **Limited public information about GPT-4o.**  There isn\\'t much publicly available, detailed information on GPT-4o\\'s capabilities, training data, or benchmarks. This makes a direct comparison difficult.\\n* **Constant evolution.** The field of large language models is constantly evolving. New models with different strengths and weaknesses are being developed all the time.\\n\\nInstead of focusing on which model is \"better\", it\\'s more helpful to consider the specific strengths and weaknesses of each model in relation to your particular needs. \\n\\n**If you have specific tasks or questions in mind, I\\'m happy to help you explore them!** \\n'"
            ],
            "application/vnd.google.colaboratory.intrinsic+json": {
              "type": "string"
            }
          },
          "metadata": {},
          "execution_count": 9
        }
      ]
    },
    {
      "cell_type": "code",
      "source": [
        "chat = model.start_chat(history=[])\n",
        "prompt = input(\"**User**: \")\n",
        "\n",
        "while prompt != \"ok bye\":\n",
        " response = chat.send_message(prompt)\n",
        " print(\"**Bot**: \",response.text)\n",
        " prompt = input(\"**User**: \")\n"
      ],
      "metadata": {
        "colab": {
          "base_uri": "https://localhost:8080/",
          "height": 818
        },
        "id": "CDY8XIHx4qBU",
        "outputId": "6f1a1ce4-34d0-4baf-fe33-9fcbfac8238d"
      },
      "execution_count": null,
      "outputs": [
        {
          "name": "stdout",
          "output_type": "stream",
          "text": [
            "**User**: hi! whould like to know who was Steve jobs\n",
            "**Bot**:  ## Steve Jobs: The Visionary Who Redefined Technology\n",
            "\n",
            "Steve Jobs (1955-2011) was an American entrepreneur, inventor, and marketing genius widely recognized as a pioneer of the personal computer revolution of the 1970s and 1980s. He's best known as the co-founder, chairman, and CEO of **Apple Inc.**, a company synonymous with sleek design and user-friendly technology.\n",
            "\n",
            "**Early Life and Beginnings:**\n",
            "\n",
            "* Born in San Francisco and adopted, Jobs grew up in Silicon Valley, where his interest in electronics blossomed.\n",
            "* He dropped out of college but continued auditing classes, including a calligraphy course that would later influence Apple's design aesthetics.\n",
            "* In 1976, at the age of 21, he co-founded Apple Computer Co. with Steve Wozniak and Ronald Wayne in his parents' garage.\n",
            "\n",
            "**Apple's Rise and Jobs' Departure:**\n",
            "\n",
            "* Apple's early computers, the Apple I and Apple II, were instrumental in bringing personal computers to the masses.\n",
            "* Jobs' visionary leadership and marketing savvy made Apple a household name.\n",
            "* Internal conflicts led to his ousting from Apple in 1985.\n",
            "\n",
            "**The NeXT Chapter and Pixar:**\n",
            "\n",
            "* Jobs founded NeXT, a computer platform development company that, while commercially unsuccessful, developed technology later used by Apple.\n",
            "* He also acquired The Graphics Group, which would become Pixar Animation Studios, revolutionizing the animation industry with films like Toy Story.\n",
            "\n",
            "**The Return to Apple and a Legacy Forged:**\n",
            "\n",
            "* In 1997, Jobs returned to Apple, which was on the brink of collapse.\n",
            "* Under his leadership, Apple experienced a remarkable turnaround, introducing iconic products like the iMac, iPod, iPhone, and iPad.\n",
            "* These products transformed the tech landscape and cemented Apple's status as a global giant.\n",
            "\n",
            "**Legacy:**\n",
            "\n",
            "* Steve Jobs is remembered as a visionary leader with an uncompromising pursuit of perfection.\n",
            "* He redefined the way we interact with technology, making it more intuitive and accessible.\n",
            "* His legacy extends beyond Apple, influencing countless entrepreneurs and inspiring generations to think differently.\n",
            "\n",
            "**Beyond the Tech:**\n",
            "\n",
            "* Jobs' life was not without controversy. He was a demanding leader and his management style was often criticized.\n",
            "* However, his passion, vision, and relentless drive continue to inspire awe and admiration.\n",
            "\n",
            "**To understand Steve Jobs is to understand the evolution of personal technology.** He was a complex and fascinating figure whose impact on the world is undeniable.\n",
            "\n",
            "**User**: Wow nice to know. ok bye\n",
            "**Bot**:  You're welcome! It was my pleasure sharing that information with you. Have a great day and feel free to reach out anytime if you have more questions. 😊 \n",
            "\n",
            "**User**: ok bye\n"
          ]
        }
      ]
    }
  ]
}